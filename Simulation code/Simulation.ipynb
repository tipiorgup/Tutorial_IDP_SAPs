{
  "cells": [
    {
      "cell_type": "markdown",
      "metadata": {
        "id": "view-in-github",
        "colab_type": "text"
      },
      "source": [
        "<a href=\"https://colab.research.google.com/github/tipiorgup/Tutorial_IDP_SAPs/blob/main/Simulation%20code/Simulation.ipynb\" target=\"_parent\"><img src=\"https://colab.research.google.com/assets/colab-badge.svg\" alt=\"Open In Colab\"/></a>"
      ]
    },
    {
      "cell_type": "code",
      "execution_count": 8,
      "metadata": {
        "id": "cwWImvHyIdF9",
        "outputId": "36a0ecf2-d418-4af7-fff0-87084f96739e",
        "colab": {
          "base_uri": "https://localhost:8080/"
        }
      },
      "outputs": [
        {
          "output_type": "stream",
          "name": "stdout",
          "text": [
            "Directory doesn't exist\n"
          ]
        }
      ],
      "source": [
        "import os\n",
        "import sys\n",
        "import shutil\n",
        "try:\n",
        "    if os.path.exists('Tutorial_IDP_SAPs'):\n",
        "        print(\"Found existing directory, attempting to remove...\")\n",
        "        shutil.rmtree('Tutorial_IDP_SAPs', ignore_errors=True)\n",
        "        print(\"Directory removed successfully\")\n",
        "    else:\n",
        "        print(\"Directory doesn't exist\")\n",
        "except Exception as e:\n",
        "    print(f\"Error while trying to remove directory: {e}\")\n"
      ]
    },
    {
      "cell_type": "code",
      "execution_count": 9,
      "metadata": {
        "colab": {
          "base_uri": "https://localhost:8080/"
        },
        "id": "g17N-N_88BVF",
        "outputId": "0c762ab8-be9e-4a6b-af4f-86f50bada047"
      },
      "outputs": [
        {
          "output_type": "stream",
          "name": "stdout",
          "text": [
            "Cloning into 'Tutorial_IDP_SAPs'...\n",
            "remote: Enumerating objects: 78, done.\u001b[K\n",
            "remote: Counting objects: 100% (78/78), done.\u001b[K\n",
            "remote: Compressing objects: 100% (58/58), done.\u001b[K\n",
            "remote: Total 78 (delta 28), reused 65 (delta 18), pack-reused 0 (from 0)\u001b[K\n",
            "Receiving objects: 100% (78/78), 25.47 KiB | 6.37 MiB/s, done.\n",
            "Resolving deltas: 100% (28/28), done.\n",
            "Requirement already satisfied: openmm in /usr/local/lib/python3.11/dist-packages (8.2.0)\n",
            "Requirement already satisfied: numpy in /usr/local/lib/python3.11/dist-packages (from openmm) (1.26.4)\n",
            "Requirement already satisfied: MDAnalysis in /usr/local/lib/python3.11/dist-packages (2.8.0)\n",
            "Requirement already satisfied: numpy>=1.23.2 in /usr/local/lib/python3.11/dist-packages (from MDAnalysis) (1.26.4)\n",
            "Requirement already satisfied: GridDataFormats>=0.4.0 in /usr/local/lib/python3.11/dist-packages (from MDAnalysis) (1.0.2)\n",
            "Requirement already satisfied: mmtf-python>=1.0.0 in /usr/local/lib/python3.11/dist-packages (from MDAnalysis) (1.1.3)\n",
            "Requirement already satisfied: joblib>=0.12 in /usr/local/lib/python3.11/dist-packages (from MDAnalysis) (1.4.2)\n",
            "Requirement already satisfied: scipy>=1.5.0 in /usr/local/lib/python3.11/dist-packages (from MDAnalysis) (1.13.1)\n",
            "Requirement already satisfied: matplotlib>=1.5.1 in /usr/local/lib/python3.11/dist-packages (from MDAnalysis) (3.10.0)\n",
            "Requirement already satisfied: tqdm>=4.43.0 in /usr/local/lib/python3.11/dist-packages (from MDAnalysis) (4.67.1)\n",
            "Requirement already satisfied: threadpoolctl in /usr/local/lib/python3.11/dist-packages (from MDAnalysis) (3.5.0)\n",
            "Requirement already satisfied: packaging in /usr/local/lib/python3.11/dist-packages (from MDAnalysis) (24.2)\n",
            "Requirement already satisfied: fasteners in /usr/local/lib/python3.11/dist-packages (from MDAnalysis) (0.19)\n",
            "Requirement already satisfied: mda-xdrlib in /usr/local/lib/python3.11/dist-packages (from MDAnalysis) (0.2.0)\n",
            "Requirement already satisfied: waterdynamics in /usr/local/lib/python3.11/dist-packages (from MDAnalysis) (1.2.0)\n",
            "Requirement already satisfied: pathsimanalysis in /usr/local/lib/python3.11/dist-packages (from MDAnalysis) (1.2.0)\n",
            "Requirement already satisfied: mdahole2 in /usr/local/lib/python3.11/dist-packages (from MDAnalysis) (0.5.0)\n",
            "Requirement already satisfied: mrcfile in /usr/local/lib/python3.11/dist-packages (from GridDataFormats>=0.4.0->MDAnalysis) (1.5.4)\n",
            "Requirement already satisfied: contourpy>=1.0.1 in /usr/local/lib/python3.11/dist-packages (from matplotlib>=1.5.1->MDAnalysis) (1.3.1)\n",
            "Requirement already satisfied: cycler>=0.10 in /usr/local/lib/python3.11/dist-packages (from matplotlib>=1.5.1->MDAnalysis) (0.12.1)\n",
            "Requirement already satisfied: fonttools>=4.22.0 in /usr/local/lib/python3.11/dist-packages (from matplotlib>=1.5.1->MDAnalysis) (4.56.0)\n",
            "Requirement already satisfied: kiwisolver>=1.3.1 in /usr/local/lib/python3.11/dist-packages (from matplotlib>=1.5.1->MDAnalysis) (1.4.8)\n",
            "Requirement already satisfied: pillow>=8 in /usr/local/lib/python3.11/dist-packages (from matplotlib>=1.5.1->MDAnalysis) (11.1.0)\n",
            "Requirement already satisfied: pyparsing>=2.3.1 in /usr/local/lib/python3.11/dist-packages (from matplotlib>=1.5.1->MDAnalysis) (3.2.1)\n",
            "Requirement already satisfied: python-dateutil>=2.7 in /usr/local/lib/python3.11/dist-packages (from matplotlib>=1.5.1->MDAnalysis) (2.8.2)\n",
            "Requirement already satisfied: msgpack>=1.0.0 in /usr/local/lib/python3.11/dist-packages (from mmtf-python>=1.0.0->MDAnalysis) (1.1.0)\n",
            "Requirement already satisfied: six>=1.5 in /usr/local/lib/python3.11/dist-packages (from python-dateutil>=2.7->matplotlib>=1.5.1->MDAnalysis) (1.17.0)\n"
          ]
        }
      ],
      "source": [
        "!git clone https://github.com/tipiorgup/Tutorial_IDP_SAPs.git\n",
        "!pip install openmm\n",
        "!pip install MDAnalysis"
      ]
    },
    {
      "cell_type": "code",
      "execution_count": 10,
      "metadata": {
        "id": "kELhjkWIInWg"
      },
      "outputs": [],
      "source": [
        "os.chdir('Tutorial_IDP_SAPs/Simulation code')"
      ]
    },
    {
      "cell_type": "code",
      "execution_count": 11,
      "metadata": {
        "id": "mNrxDrWiInWh"
      },
      "outputs": [],
      "source": [
        "ratio='900-0'\n",
        "ionic_strength='0.3'\n",
        "peptide_pair='HHHEEEWWW-HWKHWKHWK'"
      ]
    },
    {
      "cell_type": "code",
      "execution_count": 16,
      "metadata": {
        "id": "ETJeoOoCInWi",
        "outputId": "6cb3a889-9132-4bbb-b906-573379239dae",
        "colab": {
          "base_uri": "https://localhost:8080/"
        }
      },
      "outputs": [
        {
          "output_type": "stream",
          "name": "stdout",
          "text": [
            "Cannot import pdbfixer. This may affect 3SPN2 model.\n",
            "Cannot import pdbfixer. This may affect 3SPN2 model.\n",
            "Processing pair: HHHEEEWWW-HWKHWKHWK\n",
            "Check contact with FastNS method. \n",
            "Error processing pair HHHEEEWWW-HWKHWKHWK: name 'helper_functions' is not defined\n",
            "Error processing pair HHHEEEWWW-HWKHWKHWK: name 'helper_functions' is not defined\n"
          ]
        }
      ],
      "source": [
        "# First check file\n",
        "residues_file = 'residues.csv'\n",
        "\n",
        "if not os.path.exists(residues_file):\n",
        "    print(f\"❌ Error: File '{residues_file}' not found!\")\n",
        "else:\n",
        "    !python clean_pair_code.py --ratio {ratio} \\\n",
        "        --ionic-strength {ionic_strength} \\\n",
        "        --ph 7.4 \\\n",
        "        --peptide-pair {peptide_pair} \\\n",
        "        --run-all \\\n",
        "        --residues-file 'src/residues.csv' \\\n",
        "        --steps 10000"
      ]
    },
    {
      "cell_type": "code",
      "execution_count": 6,
      "metadata": {
        "id": "6vCC4oYD8BVG"
      },
      "outputs": [],
      "source": [
        "#Check in src the file parsers.py, it will show all options available"
      ]
    },
    {
      "cell_type": "code",
      "execution_count": 6,
      "metadata": {
        "id": "R646B9Y48GGY"
      },
      "outputs": [],
      "source": []
    }
  ],
  "metadata": {
    "colab": {
      "provenance": [],
      "include_colab_link": true
    },
    "kernelspec": {
      "display_name": "Python 3",
      "name": "python3"
    },
    "language_info": {
      "name": "python"
    }
  },
  "nbformat": 4,
  "nbformat_minor": 0
}