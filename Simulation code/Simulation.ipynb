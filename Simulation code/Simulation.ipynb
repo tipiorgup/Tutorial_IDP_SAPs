{
  "cells": [
    {
      "cell_type": "markdown",
      "metadata": {
        "colab_type": "text",
        "id": "view-in-github"
      },
      "source": [
        "<a href=\"https://colab.research.google.com/github/tipiorgup/Tutorial_IDP_SAPs/blob/main/Simulation.ipynb\" target=\"_parent\"><img src=\"https://colab.research.google.com/assets/colab-badge.svg\" alt=\"Open In Colab\"/></a>"
      ]
    },
    {
      "cell_type": "code",
      "execution_count": null,
      "metadata": {
        "id": "cwWImvHyIdF9"
      },
      "outputs": [],
      "source": [
        "import os\n",
        "import sys\n"
      ]
    },
    {
      "cell_type": "code",
      "execution_count": null,
      "metadata": {},
      "outputs": [],
      "source": [
        "!git clone https://github.com/tipiorgup/Tutorial_IDP_SAPs.git\n",
        "!pip install openmm\n",
        "!pip install MDAnalysis "
      ]
    },
    {
      "cell_type": "code",
      "execution_count": null,
      "metadata": {},
      "outputs": [],
      "source": [
        "os.chdir('Tutorial_IDP_SAPs/Simulation code')"
      ]
    },
    {
      "cell_type": "code",
      "execution_count": null,
      "metadata": {},
      "outputs": [],
      "source": [
        "#Check in src the file parsers.py, it will show all options available"
      ]
    },
    {
      "cell_type": "code",
      "execution_count": null,
      "metadata": {},
      "outputs": [],
      "source": [
        "ratio='900-0'\n",
        "ionic_strength='0.3'\n",
        "peptide_pair='HHHEEEWWW-HWKHWKHWK'"
      ]
    },
    {
      "cell_type": "code",
      "execution_count": null,
      "metadata": {},
      "outputs": [],
      "source": [
        "!python clean_pair_code.py --ratio {ratio} \\\n",
        "    --ionic-strength {ionic_strength} \\\n",
        "    --ph 7.4 \\\n",
        "    --peptide-pair {peptide_pair} \\\n",
        "    --run-all \\\n",
        "    --residues-file /src/residues.csv \\\n",
        "    --steps 10000"
      ]
    }
  ],
  "metadata": {
    "colab": {
      "authorship_tag": "ABX9TyMeuf7cYPM0aBE8tlIRTafp",
      "include_colab_link": true,
      "provenance": []
    },
    "kernelspec": {
      "display_name": "Python 3",
      "name": "python3"
    },
    "language_info": {
      "name": "python"
    }
  },
  "nbformat": 4,
  "nbformat_minor": 0
}
