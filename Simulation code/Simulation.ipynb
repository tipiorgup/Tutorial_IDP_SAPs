{
  "cells": [
    {
      "cell_type": "markdown",
      "metadata": {
        "id": "view-in-github",
        "colab_type": "text"
      },
      "source": [
        "<a href=\"https://colab.research.google.com/github/tipiorgup/Tutorial_IDP_SAPs/blob/main/Simulation%20code/Simulation.ipynb\" target=\"_parent\"><img src=\"https://colab.research.google.com/assets/colab-badge.svg\" alt=\"Open In Colab\"/></a>"
      ]
    },
    {
      "cell_type": "code",
      "execution_count": 14,
      "metadata": {
        "id": "cwWImvHyIdF9"
      },
      "outputs": [],
      "source": [
        "import os\n",
        "import sys\n"
      ]
    },
    {
      "cell_type": "code",
      "execution_count": 20,
      "metadata": {
        "id": "g17N-N_88BVF",
        "outputId": "cff9f5b6-8f01-4014-a060-cbcb61b008c0",
        "colab": {
          "base_uri": "https://localhost:8080/"
        }
      },
      "outputs": [
        {
          "output_type": "stream",
          "name": "stdout",
          "text": [
            "fatal: destination path 'Tutorial_IDP_SAPs' already exists and is not an empty directory.\n",
            "Requirement already satisfied: openmm in /usr/local/lib/python3.11/dist-packages (8.2.0)\n",
            "Requirement already satisfied: numpy in /usr/local/lib/python3.11/dist-packages (from openmm) (1.26.4)\n",
            "Requirement already satisfied: MDAnalysis in /usr/local/lib/python3.11/dist-packages (2.8.0)\n",
            "Requirement already satisfied: numpy>=1.23.2 in /usr/local/lib/python3.11/dist-packages (from MDAnalysis) (1.26.4)\n",
            "Requirement already satisfied: GridDataFormats>=0.4.0 in /usr/local/lib/python3.11/dist-packages (from MDAnalysis) (1.0.2)\n",
            "Requirement already satisfied: mmtf-python>=1.0.0 in /usr/local/lib/python3.11/dist-packages (from MDAnalysis) (1.1.3)\n",
            "Requirement already satisfied: joblib>=0.12 in /usr/local/lib/python3.11/dist-packages (from MDAnalysis) (1.4.2)\n",
            "Requirement already satisfied: scipy>=1.5.0 in /usr/local/lib/python3.11/dist-packages (from MDAnalysis) (1.13.1)\n",
            "Requirement already satisfied: matplotlib>=1.5.1 in /usr/local/lib/python3.11/dist-packages (from MDAnalysis) (3.10.0)\n",
            "Requirement already satisfied: tqdm>=4.43.0 in /usr/local/lib/python3.11/dist-packages (from MDAnalysis) (4.67.1)\n",
            "Requirement already satisfied: threadpoolctl in /usr/local/lib/python3.11/dist-packages (from MDAnalysis) (3.5.0)\n",
            "Requirement already satisfied: packaging in /usr/local/lib/python3.11/dist-packages (from MDAnalysis) (24.2)\n",
            "Requirement already satisfied: fasteners in /usr/local/lib/python3.11/dist-packages (from MDAnalysis) (0.19)\n",
            "Requirement already satisfied: mda-xdrlib in /usr/local/lib/python3.11/dist-packages (from MDAnalysis) (0.2.0)\n",
            "Requirement already satisfied: waterdynamics in /usr/local/lib/python3.11/dist-packages (from MDAnalysis) (1.2.0)\n",
            "Requirement already satisfied: pathsimanalysis in /usr/local/lib/python3.11/dist-packages (from MDAnalysis) (1.2.0)\n",
            "Requirement already satisfied: mdahole2 in /usr/local/lib/python3.11/dist-packages (from MDAnalysis) (0.5.0)\n",
            "Requirement already satisfied: mrcfile in /usr/local/lib/python3.11/dist-packages (from GridDataFormats>=0.4.0->MDAnalysis) (1.5.4)\n",
            "Requirement already satisfied: contourpy>=1.0.1 in /usr/local/lib/python3.11/dist-packages (from matplotlib>=1.5.1->MDAnalysis) (1.3.1)\n",
            "Requirement already satisfied: cycler>=0.10 in /usr/local/lib/python3.11/dist-packages (from matplotlib>=1.5.1->MDAnalysis) (0.12.1)\n",
            "Requirement already satisfied: fonttools>=4.22.0 in /usr/local/lib/python3.11/dist-packages (from matplotlib>=1.5.1->MDAnalysis) (4.56.0)\n",
            "Requirement already satisfied: kiwisolver>=1.3.1 in /usr/local/lib/python3.11/dist-packages (from matplotlib>=1.5.1->MDAnalysis) (1.4.8)\n",
            "Requirement already satisfied: pillow>=8 in /usr/local/lib/python3.11/dist-packages (from matplotlib>=1.5.1->MDAnalysis) (11.1.0)\n",
            "Requirement already satisfied: pyparsing>=2.3.1 in /usr/local/lib/python3.11/dist-packages (from matplotlib>=1.5.1->MDAnalysis) (3.2.1)\n",
            "Requirement already satisfied: python-dateutil>=2.7 in /usr/local/lib/python3.11/dist-packages (from matplotlib>=1.5.1->MDAnalysis) (2.8.2)\n",
            "Requirement already satisfied: msgpack>=1.0.0 in /usr/local/lib/python3.11/dist-packages (from mmtf-python>=1.0.0->MDAnalysis) (1.1.0)\n",
            "Requirement already satisfied: six>=1.5 in /usr/local/lib/python3.11/dist-packages (from python-dateutil>=2.7->matplotlib>=1.5.1->MDAnalysis) (1.17.0)\n"
          ]
        }
      ],
      "source": [
        "!git clone https://github.com/tipiorgup/Tutorial_IDP_SAPs.git\n",
        "!pip install openmm\n",
        "!pip install MDAnalysis"
      ]
    },
    {
      "cell_type": "code",
      "execution_count": 16,
      "metadata": {
        "id": "6vCC4oYD8BVG"
      },
      "outputs": [],
      "source": [
        "#Check in src the file parsers.py, it will show all options available"
      ]
    },
    {
      "cell_type": "code",
      "execution_count": 17,
      "metadata": {
        "id": "2g0Z-2yf8BVH"
      },
      "outputs": [],
      "source": [
        "ratio='900-0'\n",
        "ionic_strength='0.3'\n",
        "peptide_pair='HHHEEEWWW-HWKHWKHWK'"
      ]
    },
    {
      "cell_type": "code",
      "execution_count": 19,
      "metadata": {
        "id": "Dvi3m40k8BVH",
        "outputId": "0ac9c01d-5a2a-4ace-ba23-82e31b84b8f7",
        "colab": {
          "base_uri": "https://localhost:8080/"
        }
      },
      "outputs": [
        {
          "output_type": "stream",
          "name": "stdout",
          "text": [
            "Cannot import pdbfixer. This may affect 3SPN2 model.\n",
            "Processing pair: HHHEEEWWW-HWKHWKHWK\n",
            "Error processing pair HHHEEEWWW-HWKHWKHWK: [Errno 2] No such file or directory: '/src/residues.csv'\n",
            "Error processing pair HHHEEEWWW-HWKHWKHWK: [Errno 2] No such file or directory: '/src/residues.csv'\n"
          ]
        }
      ],
      "source": [
        "!python clean_pair_code.py --ratio {ratio} \\\n",
        "    --ionic-strength {ionic_strength} \\\n",
        "    --ph 7.4 \\\n",
        "    --peptide-pair {peptide_pair} \\\n",
        "    --run-all \\\n",
        "    --residues-file /src/residues.csv \\\n",
        "    --steps 10000"
      ]
    },
    {
      "cell_type": "code",
      "source": [],
      "metadata": {
        "id": "R646B9Y48GGY"
      },
      "execution_count": null,
      "outputs": []
    }
  ],
  "metadata": {
    "colab": {
      "provenance": [],
      "include_colab_link": true
    },
    "kernelspec": {
      "display_name": "Python 3",
      "name": "python3"
    },
    "language_info": {
      "name": "python"
    }
  },
  "nbformat": 4,
  "nbformat_minor": 0
}