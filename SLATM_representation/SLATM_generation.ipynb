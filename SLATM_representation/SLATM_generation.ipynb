{
  "nbformat": 4,
  "nbformat_minor": 0,
  "metadata": {
    "colab": {
      "provenance": [],
      "toc_visible": true,
      "authorship_tag": "ABX9TyO6mV8Nlp6MD12WugQgwT3F",
      "include_colab_link": true
    },
    "kernelspec": {
      "name": "python3",
      "display_name": "Python 3"
    },
    "language_info": {
      "name": "python"
    }
  },
  "cells": [
    {
      "cell_type": "markdown",
      "metadata": {
        "id": "view-in-github",
        "colab_type": "text"
      },
      "source": [
        "<a href=\"https://colab.research.google.com/github/tipiorgup/Tutorial_IDP_SAPs/blob/main/SLATM_generation.ipynb\" target=\"_parent\"><img src=\"https://colab.research.google.com/assets/colab-badge.svg\" alt=\"Open In Colab\"/></a>"
      ]
    },
    {
      "cell_type": "code",
      "execution_count": 3,
      "metadata": {
        "colab": {
          "base_uri": "https://localhost:8080/"
        },
        "id": "ZMGyt3XHgF9l",
        "outputId": "4a2354d5-0aad-4278-bec9-3df69fbdacd8"
      },
      "outputs": [
        {
          "output_type": "stream",
          "name": "stdout",
          "text": [
            "Requirement already satisfied: qmllib in /usr/local/lib/python3.11/dist-packages (1.1.9)\n",
            "Requirement already satisfied: numpy in /usr/local/lib/python3.11/dist-packages (from qmllib) (1.26.4)\n",
            "Requirement already satisfied: scipy in /usr/local/lib/python3.11/dist-packages (from qmllib) (1.13.1)\n"
          ]
        }
      ],
      "source": [
        "!pip install qmllib"
      ]
    },
    {
      "cell_type": "code",
      "source": [
        "import pickle\n",
        "!pip install mdtraj\n",
        "import mdtraj as md\n",
        "\n",
        "with open('mbtypes.pickle', 'rb') as f:\n",
        "    mbtypes = pickle.load(f)\n",
        "\n",
        "with open('stored_values.pkl', 'rb') as f:\n",
        "    stored_values = pickle.load(f)\n",
        "\n",
        "with open('HHHHH-A_ensemble.pkl', 'rb') as f:\n",
        "    ensemble = pickle.load(f)\n",
        "\n",
        "slatm_file='slatm.pkl'"
      ],
      "metadata": {
        "colab": {
          "base_uri": "https://localhost:8080/"
        },
        "id": "sU4MPFyjgM5U",
        "outputId": "b9e3f5d9-aa34-4b3a-f350-52e62fdc98fa"
      },
      "execution_count": 4,
      "outputs": [
        {
          "output_type": "stream",
          "name": "stdout",
          "text": [
            "Requirement already satisfied: mdtraj in /usr/local/lib/python3.11/dist-packages (1.10.3)\n",
            "Requirement already satisfied: numpy<3,>=1.25.0 in /usr/local/lib/python3.11/dist-packages (from mdtraj) (1.26.4)\n",
            "Requirement already satisfied: scipy in /usr/local/lib/python3.11/dist-packages (from mdtraj) (1.13.1)\n",
            "Requirement already satisfied: pyparsing in /usr/local/lib/python3.11/dist-packages (from mdtraj) (3.2.1)\n",
            "Requirement already satisfied: packaging in /usr/local/lib/python3.11/dist-packages (from mdtraj) (24.2)\n",
            "Requirement already satisfied: netCDF4 in /usr/local/lib/python3.11/dist-packages (from mdtraj) (1.7.2)\n",
            "Requirement already satisfied: cftime in /usr/local/lib/python3.11/dist-packages (from netCDF4->mdtraj) (1.6.4.post1)\n",
            "Requirement already satisfied: certifi in /usr/local/lib/python3.11/dist-packages (from netCDF4->mdtraj) (2025.1.31)\n"
          ]
        }
      ]
    },
    {
      "cell_type": "code",
      "source": [
        "from qmllib import *\n",
        "from qmllib.representations import generate_slatm"
      ],
      "metadata": {
        "id": "Hk76P3QhiVnn"
      },
      "execution_count": 5,
      "outputs": []
    },
    {
      "cell_type": "code",
      "source": [
        "def calculate_slatm(stored_values, ensembles, slatm_file, mbtypes):\n",
        "    d = {'A':1, 'R':2, 'N':3, 'D':4, 'C':5, 'Q':6, 'G':7, 'E':8, 'H':9, 'I':10,\n",
        "             'L':11, 'K':12, 'M':13, 'F':14, 'P':15, 'S':16, 'T':17, 'W':18, 'Y':19, 'V':20}\n",
        "    if stored_values['Simulation type'] == 'Single peptide':\n",
        "        try:\n",
        "            error_mol=[]\n",
        "            slatm={}\n",
        "            numbers_n={}\n",
        "            n_residues=len(stored_values['Sequence'])\n",
        "            res_simple=list(stored_values['Sequence'])\n",
        "            n_chains=int(1000/n_residues)\n",
        "            # chains=np.reshape(np.arange(ensembles[stored_values['peptide_pairs']][0][0].n_residues),(n_chains,len(stored_values['Sequence'])))\n",
        "            beads=res_simple*n_chains\n",
        "\n",
        "            numbers = {stored_values['Sequence']: [d[ni] for ni in beads]}\n",
        "            slatm = {stored_values['Sequence']: {}}\n",
        "            #Check original code and we create a SLATM per snapshot, here we use the last snapshot (4) of the last ensmeble (4), otherwise go into two loops\n",
        "            slatm[stored_values['peptide_pairs']] = []\n",
        "            slatm_data = generate_slatm(\n",
        "                ensembles[stored_values['peptide_pairs']][4][4].xyz,\n",
        "                numbers[stored_values['Sequence']],\n",
        "                mbtypes=mbtypes,\n",
        "                rcut=20,\n",
        "                dgrids=[1, 0.5],\n",
        "                sigmas=[0.3, 0.2]\n",
        "            )\n",
        "            slatm[stored_values['Sequence']].append(slatm_data)\n",
        "\n",
        "            with open(slatm_file, 'wb') as handle:\n",
        "                pickle.dump(slatm, handle, protocol=pickle.HIGHEST_PROTOCOL)\n",
        "\n",
        "            return slatm\n",
        "        except Exception as e:\n",
        "            print(f\"Error calculating SLATM: {e}\")\n",
        "            return None\n",
        "    else:\n",
        "        try:\n",
        "              n_residues = len(stored_values['Sequence 1'])\n",
        "              res_simple0 = list(stored_values['Sequence 1'])\n",
        "              res_simple1 = list(stored_values['Sequence 2'])\n",
        "              n_mol = ensembles[stored_values['peptide_pairs']][0][0].n_residues\n",
        "              n_chains = int(1000/n_residues)\n",
        "\n",
        "              chains = np.reshape(np.arange(n_mol), (n_chains, n_residues))\n",
        "              beads0 = res_simple0 * (int(int(stored_values['Processed_Ratio'].split('-')[0])/n_residues))\n",
        "              beads1 = res_simple1 * (int((1000-int(stored_values['Processed_Ratio'].split('-')[0]))/n_residues))\n",
        "\n",
        "              numbers = {stored_values['peptide_pairs']: [d[ni] for ni in beads0] + [d[ni] for ni in beads1]}\n",
        "              slatm = {stored_values['peptide_pairs']: {}}\n",
        "              slatm[stored_values['peptide_pairs']] = []\n",
        "              slatm_data = generate_slatm(\n",
        "                  ensembles[stored_values['peptide_pairs']][4][4].xyz,\n",
        "                  numbers[stored_values['peptide_pairs']],\n",
        "                  mbtypes=mbtypes,\n",
        "                  rcut=5,\n",
        "                  dgrids=[2, 36],\n",
        "                  sigmas=[0.3, 0.2]\n",
        "              )\n",
        "              slatm[stored_values['peptide_pairs']].append(slatm_data)\n",
        "\n",
        "              with open(slatm_file, 'wb') as handle:\n",
        "                  pickle.dump(slatm, handle, protocol=pickle.HIGHEST_PROTOCOL)\n",
        "\n",
        "              return slatm\n",
        "        except Exception as e:\n",
        "              print(f\"Error calculating SLATM: {e}\")\n",
        "              return None"
      ],
      "metadata": {
        "id": "BlzZMyW7Ys4t"
      },
      "execution_count": 6,
      "outputs": []
    },
    {
      "cell_type": "code",
      "source": [
        "calculate_slatm(stored_values, ensemble, slatm_file, mbtypes)"
      ],
      "metadata": {
        "id": "lr69-kLoiGnO"
      },
      "execution_count": null,
      "outputs": []
    },
    {
      "cell_type": "code",
      "source": [],
      "metadata": {
        "id": "1yaF5W7AiK5G"
      },
      "execution_count": null,
      "outputs": []
    },
    {
      "cell_type": "code",
      "source": [],
      "metadata": {
        "id": "HYPB0YmPiYJU"
      },
      "execution_count": null,
      "outputs": []
    }
  ]
}